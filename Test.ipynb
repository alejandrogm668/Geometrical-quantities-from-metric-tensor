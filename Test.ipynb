{
 "cells": [
  {
   "cell_type": "code",
   "execution_count": 1,
   "metadata": {},
   "outputs": [],
   "source": [
    "import numpy as np \n",
    "from sympy import * \n",
    "from sympy.physics.mechanics import *\n",
    "from Induced_geometry import *"
   ]
  },
  {
   "cell_type": "markdown",
   "metadata": {},
   "source": [
    "### Embedded 3-sphere\n",
    "$$ds^2 = \\frac{a^2}{a^2 - r^2} dr^2 + r^2 d\\theta^2 + r^2 \\sin^2 \\theta d\\phi^2$$"
   ]
  },
  {
   "cell_type": "code",
   "execution_count": 2,
   "metadata": {},
   "outputs": [
    {
     "data": {
      "text/latex": [
       "$\\displaystyle \\left[\\begin{matrix}\\frac{a^{2}}{a^{2} - r^{2}} & 0 & 0\\\\0 & r^{2} & 0\\\\0 & 0 & r^{2} \\sin^{2}{\\left(θ \\right)}\\end{matrix}\\right]$"
      ],
      "text/plain": [
       "Matrix([\n",
       "[a**2/(a**2 - r**2),    0,              0],\n",
       "[                 0, r**2,              0],\n",
       "[                 0,    0, r**2*sin(θ)**2]])"
      ]
     },
     "execution_count": 2,
     "metadata": {},
     "output_type": "execute_result"
    }
   ],
   "source": [
    "# 1. Declare the symbolic variables.\n",
    "a,r,θ,ϕ = symbols('a,r,θ,ϕ', real = True)\n",
    "\n",
    "# 2. Create a list with the space-time variables.\n",
    "var = [r,θ,ϕ]\n",
    "\n",
    "# 3. Metric.\n",
    "g = np.diag([a**2/(-r**2+a**2),r**2,r**2 * sin(θ)**2])\n",
    "\n",
    "Matrix(g)"
   ]
  },
  {
   "cell_type": "code",
   "execution_count": 3,
   "metadata": {},
   "outputs": [],
   "source": [
    "# 4. Compute the induced geometry instance\n",
    "Geom = Induced_geometry(g,var)"
   ]
  },
  {
   "cell_type": "code",
   "execution_count": 4,
   "metadata": {},
   "outputs": [
    {
     "data": {
      "text/latex": [
       "$\\displaystyle \\left[\\begin{matrix}\\frac{2}{a^{2} - r^{2}} & 0 & 0\\\\0 & \\frac{2 r^{2}}{a^{2}} & 0\\\\0 & 0 & \\frac{2 r^{2} \\sin^{2}{\\left(θ \\right)}}{a^{2}}\\end{matrix}\\right]$"
      ],
      "text/plain": [
       "Matrix([\n",
       "[2/(a**2 - r**2),           0,                     0],\n",
       "[              0, 2*r**2/a**2,                     0],\n",
       "[              0,           0, 2*r**2*sin(θ)**2/a**2]])"
      ]
     },
     "execution_count": 4,
     "metadata": {},
     "output_type": "execute_result"
    }
   ],
   "source": [
    "# 5. Compute some elements\n",
    "Matrix(Geom.ricci_tensor)"
   ]
  },
  {
   "cell_type": "code",
   "execution_count": 5,
   "metadata": {},
   "outputs": [
    {
     "data": {
      "text/plain": [
       "array([[[r/(a**2 - r**2), 0, 0],\n",
       "        [0, -r + r**3/a**2, 0],\n",
       "        [0, 0, r*(-a**2 + r**2)*sin(θ)**2/a**2]],\n",
       "\n",
       "       [[0, 1/r, 0],\n",
       "        [1/r, 0, 0],\n",
       "        [0, 0, -sin(2*θ)/2]],\n",
       "\n",
       "       [[0, 0, 1/r],\n",
       "        [0, 0, 1/tan(θ)],\n",
       "        [1/r, 1/tan(θ), 0]]], dtype=object)"
      ]
     },
     "execution_count": 5,
     "metadata": {},
     "output_type": "execute_result"
    }
   ],
   "source": [
    "Geom.christoffel_symbol"
   ]
  },
  {
   "cell_type": "code",
   "execution_count": 6,
   "metadata": {},
   "outputs": [
    {
     "data": {
      "text/latex": [
       "$\\displaystyle \\frac{6}{a^{2}}$"
      ],
      "text/plain": [
       "6/a**2"
      ]
     },
     "execution_count": 6,
     "metadata": {},
     "output_type": "execute_result"
    }
   ],
   "source": [
    "Geom.ricci_scalar"
   ]
  },
  {
   "cell_type": "markdown",
   "metadata": {},
   "source": [
    "### FLRW \n",
    "$$ds^2 = - dt^2 + a(t) \\delta_{ij} dx^i dx^j$$"
   ]
  },
  {
   "cell_type": "code",
   "execution_count": 7,
   "metadata": {},
   "outputs": [
    {
     "data": {
      "text/latex": [
       "$\\displaystyle \\left[\\begin{matrix}-1 & 0 & 0 & 0\\\\0 & a^{2}{\\left(t \\right)} & 0 & 0\\\\0 & 0 & a^{2}{\\left(t \\right)} & 0\\\\0 & 0 & 0 & a^{2}{\\left(t \\right)}\\end{matrix}\\right]$"
      ],
      "text/plain": [
       "Matrix([\n",
       "[-1,       0,       0,       0],\n",
       "[ 0, a(t)**2,       0,       0],\n",
       "[ 0,       0, a(t)**2,       0],\n",
       "[ 0,       0,       0, a(t)**2]])"
      ]
     },
     "execution_count": 7,
     "metadata": {},
     "output_type": "execute_result"
    }
   ],
   "source": [
    "t,x,y,z = symbols('t,x,y,z', real = True)\n",
    "a = dynamicsymbols('a',real = True)\n",
    "var = ['t',x,y,z]\n",
    "\n",
    "g = np.diag([-1,a**2,a**2,a**2])\n",
    "Matrix(g)"
   ]
  },
  {
   "cell_type": "code",
   "execution_count": 8,
   "metadata": {},
   "outputs": [],
   "source": [
    "FLRW = Induced_geometry(g,var)"
   ]
  },
  {
   "cell_type": "code",
   "execution_count": 9,
   "metadata": {},
   "outputs": [
    {
     "data": {
      "image/png": "[encoded data removed]",
      "text/latex": [
       "$\\displaystyle \\frac{6 \\left(a \\ddot{a} + \\dot{a}^{2}\\right)}{a^{2}}$"
      ],
      "text/plain": [
       "  ⎛       2⎞\n",
       "6⋅⎝a⋅ä + ȧ ⎠\n",
       "────────────\n",
       "      2     \n",
       "     a      "
      ]
     },
     "execution_count": 9,
     "metadata": {},
     "output_type": "execute_result"
    }
   ],
   "source": [
    "init_vprinting()\n",
    "FLRW.ricci_scalar"
   ]
  },
  {
   "cell_type": "code",
   "execution_count": 10,
   "metadata": {},
   "outputs": [
    {
     "data": {
      "image/png": "[encoded data removed]",
      "text/latex": [
       "$\\displaystyle \\left[\\begin{matrix}\\frac{3 \\dot{a}^{2}}{a^{2}} & 0 & 0 & 0\\\\0 & - 2 a \\ddot{a} - \\dot{a}^{2} & 0 & 0\\\\0 & 0 & - 2 a \\ddot{a} - \\dot{a}^{2} & 0\\\\0 & 0 & 0 & - 2 a \\ddot{a} - \\dot{a}^{2}\\end{matrix}\\right]$"
      ],
      "text/plain": [
       "⎡   2                                       ⎤\n",
       "⎢3⋅ȧ                                        ⎥\n",
       "⎢────       0            0            0     ⎥\n",
       "⎢  2                                        ⎥\n",
       "⎢ a                                         ⎥\n",
       "⎢                                           ⎥\n",
       "⎢                2                          ⎥\n",
       "⎢ 0    -2⋅a⋅ä - ȧ        0            0     ⎥\n",
       "⎢                                           ⎥\n",
       "⎢                             2             ⎥\n",
       "⎢ 0         0       -2⋅a⋅ä - ȧ        0     ⎥\n",
       "⎢                                           ⎥\n",
       "⎢                                          2⎥\n",
       "⎣ 0         0            0       -2⋅a⋅ä - ȧ ⎦"
      ]
     },
     "execution_count": 10,
     "metadata": {},
     "output_type": "execute_result"
    }
   ],
   "source": [
    "Matrix(FLRW.einstein_tensor)"
   ]
  }
 ],
 "metadata": {
  "kernelspec": {
   "display_name": "Python 3",
   "language": "python",
   "name": "python3"
  },
  "language_info": {
   "codemirror_mode": {
    "name": "ipython",
    "version": 3
   },
   "file_extension": ".py",
   "mimetype": "text/x-python",
   "name": "python",
   "nbconvert_exporter": "python",
   "pygments_lexer": "ipython3",
   "version": "3.8.5"
  }
 },
 "nbformat": 4,
 "nbformat_minor": 4
}
